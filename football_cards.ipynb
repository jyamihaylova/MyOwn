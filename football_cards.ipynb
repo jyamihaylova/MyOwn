{
 "cells": [
  {
   "cell_type": "code",
   "execution_count": null,
   "metadata": {},
   "outputs": [],
   "source": [
    "list_cards = input().split()\n",
    "team_a = [1, 2, 3, 4, 5, 6, 7, 8, 9, 10, 11]\n",
    "team_b = [1, 2, 3, 4, 5, 6, 7, 8, 9, 10, 11]\n",
    "\n",
    "team_a_counter = 11\n",
    "team_b_counter = 11\n",
    "\n",
    "for card in list_cards:\n",
    "    tokens = card.split(\"-\")\n",
    "    team = tokens[0]\n",
    "    player = int(tokens[1])\n",
    "    if team == \"A\":\n",
    "        if player in team_a:\n",
    "            team_a.remove(player)\n",
    "            team_a_counter -= 1\n",
    "    elif team == \"B\":\n",
    "        if player in team_b:\n",
    "            team_b.remove(player)\n",
    "            team_b_counter -= 1\n",
    "    if team_a_counter < 7 or team_b_counter < 7:\n",
    "        break\n",
    "print(f\"Team A - {team_a_counter}; Team B - {team_b_counter}\")\n",
    "if team_a_counter < 7 or team_b_counter < 7:\n",
    "    print(f\"Game was terminated\")"
   ]
  }
 ],
 "metadata": {
  "kernelspec": {
   "display_name": "Python 3",
   "language": "python",
   "name": "python3"
  },
  "language_info": {
   "codemirror_mode": {
    "name": "ipython",
    "version": 3
   },
   "file_extension": ".py",
   "mimetype": "text/x-python",
   "name": "python",
   "nbconvert_exporter": "python",
   "pygments_lexer": "ipython3",
   "version": "3.8.5"
  }
 },
 "nbformat": 4,
 "nbformat_minor": 4
}
